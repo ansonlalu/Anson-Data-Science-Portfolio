{
 "cells": [
  {
   "cell_type": "markdown",
   "metadata": {},
   "source": [
    "# Capstone Project - The Battle of Neighborhoods (Week 1)"
   ]
  },
  {
   "cell_type": "markdown",
   "metadata": {},
   "source": [
    "## 1. Introduction/Business Problem"
   ]
  },
  {
   "cell_type": "markdown",
   "metadata": {},
   "source": [
    "In this Capstone Project, the assessment of the Japanese food restaurant will be undergone before launching a new Japanese food restaurant in New York City first. Due to the competition in this city, the comprehensive data analysis shall be implemented in order to understand the capability, price, categories (Japanese food restaurant or sushi restaurant) and rating for the Japanese Restaurant in New York City. The assessment can help understand what business strategy of Japanese restaurant shall be made (e.g. pricing strategy, decision for the acquisition of higher rating, location, etc.) before its new launch.\n",
    "\n",
    "In order to investigate the market of Japanese restaurants in New York City, the number of Japanese restaurant for the assessment shall be as large as possible to have comprehensive information, particularly for Location, Rating and Price, the complete data set will be used for the data analysis of Japanese Restaurant. There are several parts to be performed in the analysis, including:\n",
    "\n",
    "1. Exploratory Data Analysis \n",
    "2. Clustering by K-Means \n",
    "3. Classification using Random Forest and XGboost \n",
    "\n",
    "The conclusion will be made after the subsequent works aforesaid and provide the findings and suggestions for the investor of Japanese Restaurant to provide a good competitive edge for its launch.\n"
   ]
  },
  {
   "cell_type": "markdown",
   "metadata": {},
   "source": [
    "## 2. Acquisition of Data "
   ]
  },
  {
   "cell_type": "markdown",
   "metadata": {},
   "source": [
    "The data will be collected from Foursquare API to obtain 50 numbers of Japanese food restaurant at most. The original features of the Japanese Restaurant in New York City are gathered by the Foursquare API as follows:\n",
    "\n",
    "1.\tName\t\n",
    "2.\tTeam\t\n",
    "3.\tCategories\t\n",
    "4.\tAddress\t\n",
    "5.\tCrossstreet\t\n",
    "6.\tLat\t\n",
    "7.\tLng\t\n",
    "8.\tLabeledlatlngs\t\n",
    "9.\tDistance\t\n",
    "10.\tPostalcode\t\n",
    "11.\tCc\t\n",
    "12.\tCity\t\n",
    "13.\tState\t\n",
    "14.\tCountry\t\n",
    "15.\tFormattedaddress\t\n",
    "16.\tNeighborhood\t\n",
    "17.\tId\t\n",
    "18.\tRating\t\n",
    "19.\tPrice\n",
    "\n",
    "The search query of Japanese restaurant is adopted and the searching radius of 40000 will be used. The data will be cleaned and then some significant features will be extracted as well, covering Name, Categories, Distance, City, Rating and Price. \n",
    "\n",
    "Prior to the acquisition of data from Foursquare API, the client ID and client secret shall be obtained in the Foursquare’s website. Moreover, the version and limit shall also be provided for the connection of API.\n"
   ]
  }
 ],
 "metadata": {
  "kernelspec": {
   "display_name": "Python 3",
   "language": "python",
   "name": "python3"
  },
  "language_info": {
   "codemirror_mode": {
    "name": "ipython",
    "version": 3
   },
   "file_extension": ".py",
   "mimetype": "text/x-python",
   "name": "python",
   "nbconvert_exporter": "python",
   "pygments_lexer": "ipython3",
   "version": "3.7.6"
  }
 },
 "nbformat": 4,
 "nbformat_minor": 4
}
